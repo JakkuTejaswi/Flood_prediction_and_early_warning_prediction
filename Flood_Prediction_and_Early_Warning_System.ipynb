{
 "cells": [
  {
   "cell_type": "markdown",
   "id": "236e97a3-bd4b-408a-bb0a-e2020889299c",
   "metadata": {},
   "source": [
    "# **Importing necessary libraries**"
   ]
  },
  {
   "cell_type": "code",
   "execution_count": null,
   "id": "fa7c8395-1551-43a5-b027-930f18c57df7",
   "metadata": {},
   "outputs": [],
   "source": [
    "import numpy as np\n",
    "import pandas as pd\n",
    "import matplotlib.pyplot as plt\n",
    "import seaborn as sns\n",
    "from sklearn.preprocessing import StandardScaler"
   ]
  },
  {
   "cell_type": "markdown",
   "id": "d4cbd9fc-e75a-4226-87af-e93bf84f69e6",
   "metadata": {},
   "source": [
    "# **Loading the nasa dataset**\n",
    "### The NASA dataset (POWER Data) provides daily climate variables such as air temperature (T2M, T2M_MAX, T2M_MIN), surface pressure (PS), precipitation (PRECTOTCORR), relative humidity (RH2M), and wind speed (WS2M), recorded with respect to year (YEAR) and day of year (DOY). It represents continuous environmental conditions for the selected geographic location."
   ]
  },
  {
   "cell_type": "code",
   "execution_count": null,
   "id": "8db29551-0d60-496e-be08-e55846f666ea",
   "metadata": {},
   "outputs": [],
   "source": [
    "nasa_data = pd.read_csv(\"nasa(India).csv\", skiprows=15)"
   ]
  },
  {
   "cell_type": "code",
   "execution_count": null,
   "id": "1a818e46-0242-40a3-8645-6c5b2fc7bb42",
   "metadata": {},
   "outputs": [],
   "source": [
    "nasa_data"
   ]
  },
  {
   "cell_type": "code",
   "execution_count": null,
   "id": "d6fe4c81-3645-4ea6-a426-60bae868fe3a",
   "metadata": {},
   "outputs": [],
   "source": [
    "nasa_data.replace(-999, np.nan, inplace=True)\n"
   ]
  },
  {
   "cell_type": "code",
   "execution_count": null,
   "id": "37fe2905-3cf8-4d5e-bb33-e0285e23e75c",
   "metadata": {},
   "outputs": [],
   "source": [
    "nasa_data.dropna(inplace=True)"
   ]
  },
  {
   "cell_type": "markdown",
   "id": "e28c0cf0-9a53-4b79-8d01-ca43285f3a94",
   "metadata": {},
   "source": [
    "# **Summary of the nasa dataset**"
   ]
  },
  {
   "cell_type": "code",
   "execution_count": null,
   "id": "1fd7d75f-9ae9-47e0-ad7d-7ba6beafb7e3",
   "metadata": {},
   "outputs": [],
   "source": [
    "nasa_data.info()"
   ]
  },
  {
   "cell_type": "markdown",
   "id": "111d4a06-4ba4-45da-8cbf-95858a0c5831",
   "metadata": {},
   "source": [
    "# **descriptive statistics of the dataset**"
   ]
  },
  {
   "cell_type": "code",
   "execution_count": null,
   "id": "48d7c659-994d-47ef-b2f4-08c7f61e3fc4",
   "metadata": {},
   "outputs": [],
   "source": [
    "nasa_data.describe()"
   ]
  },
  {
   "cell_type": "markdown",
   "id": "d177bf33-7f9a-4b37-b918-6bb9de4c4cbe",
   "metadata": {},
   "source": [
    "# **Checking for the null values**"
   ]
  },
  {
   "cell_type": "code",
   "execution_count": null,
   "id": "f566bb16-98bb-4b3e-84c7-8cdff6fd71d9",
   "metadata": {},
   "outputs": [],
   "source": [
    "nasa_data.isnull().sum()"
   ]
  },
  {
   "cell_type": "markdown",
   "id": "397e0897-9501-468b-9ef7-5e1ee605cec4",
   "metadata": {},
   "source": [
    "# **Checking for the duplicated values**"
   ]
  },
  {
   "cell_type": "code",
   "execution_count": null,
   "id": "6b562bbb-13de-4df7-a398-e1398d13419b",
   "metadata": {},
   "outputs": [],
   "source": [
    "nasa_data.duplicated().sum()"
   ]
  },
  {
   "cell_type": "markdown",
   "id": "c908613d-fd4a-4e86-87d8-89d850c5e282",
   "metadata": {},
   "source": [
    "# **Loading the EMD-DAT data**\n",
    "### The EM-DAT dataset (Emergency Events Database) contains historical disaster records, including event details such as disaster group, type, subtype, location, country, start and end dates, and socio-economic impacts (e.g., Total Deaths, Total Affected, Total Damage, Insured Damage). It provides structured information on disaster occurrences and their consequences."
   ]
  },
  {
   "cell_type": "code",
   "execution_count": null,
   "id": "77402901-1779-45c6-b9d8-8b1b6bb9daf1",
   "metadata": {},
   "outputs": [],
   "source": [
    "emd_data = pd.read_excel(\"EMD_data.xlsx\")"
   ]
  },
  {
   "cell_type": "code",
   "execution_count": null,
   "id": "9e7c5822-a136-47cd-ace6-cab3332967bf",
   "metadata": {},
   "outputs": [],
   "source": [
    "emd_data"
   ]
  },
  {
   "cell_type": "markdown",
   "id": "ba9f9a50-3c81-4dae-a0da-e00dcb88a61e",
   "metadata": {},
   "source": [
    "# **Summary of the EMD-DAT dataset**"
   ]
  },
  {
   "cell_type": "code",
   "execution_count": null,
   "id": "42cc966e-64ec-4e37-bc1d-8be7308fd037",
   "metadata": {},
   "outputs": [],
   "source": [
    "emd_data.info()"
   ]
  },
  {
   "cell_type": "markdown",
   "id": "c23e07b4-2ffc-4f15-9e22-853a50c5d00e",
   "metadata": {},
   "source": [
    "# **descriptive statistics of the dataset**"
   ]
  },
  {
   "cell_type": "code",
   "execution_count": null,
   "id": "a0c2e415-228e-40c6-9054-0a981eaa901c",
   "metadata": {},
   "outputs": [],
   "source": [
    "emd_data.describe()"
   ]
  },
  {
   "cell_type": "markdown",
   "id": "271b997c-8488-434a-bec5-6e8f662921d7",
   "metadata": {},
   "source": [
    "# **Creating seperate date column in the nasa dataset**"
   ]
  },
  {
   "cell_type": "code",
   "execution_count": null,
   "id": "c9cd6513-bbf4-4b9c-a2ba-749fdbe9f529",
   "metadata": {},
   "outputs": [],
   "source": [
    "nasa_data['DATE'] = pd.to_datetime(nasa_data['YEAR'].astype(str), format='%Y') + \\\n",
    "                  pd.to_timedelta(nasa_data['DOY'] - 1, unit='D')\n"
   ]
  },
  {
   "cell_type": "code",
   "execution_count": null,
   "id": "a07ec2c1-f3e8-4286-a7dd-e11f443f5a36",
   "metadata": {},
   "outputs": [],
   "source": [
    "nasa_data"
   ]
  },
  {
   "cell_type": "markdown",
   "id": "62414e35-a645-4007-a2b5-598a0ff9b7e2",
   "metadata": {},
   "source": [
    "# **Aggregating NASA daily data into yearly summaries**"
   ]
  },
  {
   "cell_type": "code",
   "execution_count": null,
   "id": "125cf1dd-a329-42f9-af25-c5a580665400",
   "metadata": {},
   "outputs": [],
   "source": [
    "df1_nasa=nasa_data.groupby(\"DATE\").agg({\n",
    "    \"T2M\": \"mean\",             # average annual temperature\n",
    "    \"T2M_MAX\": \"mean\",         # average of daily max temps\n",
    "    \"T2M_MIN\": \"mean\",         # average of daily min temps\n",
    "    \"PS\": \"mean\",              # average surface pressure\n",
    "    \"PRECTOTCORR\": \"sum\",      # total annual precipitation\n",
    "    \"RH2M\": \"mean\",            # average humidity\n",
    "    \"WS2M\": \"mean\"             # average wind speed\n",
    "}).reset_index()\n"
   ]
  },
  {
   "cell_type": "code",
   "execution_count": null,
   "id": "11a85b91-d29d-4086-881b-b0d92445975d",
   "metadata": {},
   "outputs": [],
   "source": [
    "df1_nasa"
   ]
  },
  {
   "cell_type": "markdown",
   "id": "be191460-e052-496f-9587-31985d390539",
   "metadata": {},
   "source": [
    "# **Checking for the null values**"
   ]
  },
  {
   "cell_type": "code",
   "execution_count": null,
   "id": "75021094-fb4c-4757-aed2-fdd281b25ba5",
   "metadata": {},
   "outputs": [],
   "source": [
    "df1_nasa.isnull().sum()"
   ]
  },
  {
   "cell_type": "markdown",
   "id": "0b717c98-2577-4fe6-91dc-a4b73a989642",
   "metadata": {},
   "source": [
    "# **Checking for the duplicated values**"
   ]
  },
  {
   "cell_type": "code",
   "execution_count": null,
   "id": "0bdc0d61-2db8-489d-825d-c838b20f9151",
   "metadata": {},
   "outputs": [],
   "source": [
    "df1_nasa.duplicated().sum()"
   ]
  },
  {
   "cell_type": "markdown",
   "id": "8d46b59f-3447-4db0-bab5-f04192c6cfd9",
   "metadata": {},
   "source": [
    "# **Creating date column in the EMD-DAT dataset**"
   ]
  },
  {
   "cell_type": "code",
   "execution_count": null,
   "id": "d96a625d-b728-45f8-aff7-795d2a65fa10",
   "metadata": {},
   "outputs": [],
   "source": [
    "emd_data['Start Day'] = emd_data['Start Day'].fillna(1)   # assume 1st of the month\n",
    "emd_data['Start Month'] = emd_data['Start Month'].fillna(1)  # assume January if missing\n",
    "emd_data['DATE'] = pd.to_datetime(dict(\n",
    "    year=emd_data['Start Year'],\n",
    "    month=emd_data['Start Month'],\n",
    "    day=emd_data['Start Day']\n",
    "))\n"
   ]
  },
  {
   "cell_type": "markdown",
   "id": "eacefcfc-efcd-49c4-b8db-c3b71ca77835",
   "metadata": {},
   "source": [
    "# **Adding the flood labels to nasa dataset**"
   ]
  },
  {
   "cell_type": "code",
   "execution_count": null,
   "id": "3883fd60-7148-4ecf-ac07-79b529ff05db",
   "metadata": {},
   "outputs": [],
   "source": [
    "flood_dates = emd_data[emd_data['Disaster Type'] == 'Flood']['DATE'].dt.date.unique()\n",
    "\n",
    "# Create Flood label column (1 if date matches flood date, else 0)\n",
    "df1_nasa['Flood'] = df1_nasa['DATE'].dt.date.isin(flood_dates).astype(int)\n"
   ]
  },
  {
   "cell_type": "markdown",
   "id": "9af02a27-517f-460e-9fb0-5903f5196c55",
   "metadata": {},
   "source": [
    "# **Updated NASA dataset along with flood labels**"
   ]
  },
  {
   "cell_type": "code",
   "execution_count": null,
   "id": "80c9e24d-9b83-4787-87c9-3e3689fdcd1f",
   "metadata": {},
   "outputs": [],
   "source": [
    "df1_nasa"
   ]
  },
  {
   "cell_type": "code",
   "execution_count": null,
   "id": "9538c0a5-9091-4c61-81e3-32dd4e15cf70",
   "metadata": {},
   "outputs": [],
   "source": [
    "df1_nasa['Flood'].value_counts()"
   ]
  },
  {
   "cell_type": "markdown",
   "id": "af56645d-faa1-45fb-827f-4346e811892f",
   "metadata": {},
   "source": [
    "# **Keeping only necessary columns in the EMD-DAT dataset**"
   ]
  },
  {
   "cell_type": "code",
   "execution_count": null,
   "id": "e8003f47-9c06-4cbe-8bb4-e43896dc47ec",
   "metadata": {},
   "outputs": [],
   "source": [
    "emd_india = emd_data[[\n",
    "    \"DisNo.\", \"Disaster Group\", \"Disaster Type\",\"Disaster Subtype\", \"Location\",\n",
    "    \"DATE\", \"Total Deaths\", \"Total Affected\",\n",
    "]]\n"
   ]
  },
  {
   "cell_type": "markdown",
   "id": "4257ab56-205e-4667-9526-987fb432c795",
   "metadata": {},
   "source": [
    "# **Checking for the null values**"
   ]
  },
  {
   "cell_type": "code",
   "execution_count": null,
   "id": "65ef6bab-6c14-440e-97ea-faf49bf8cb67",
   "metadata": {},
   "outputs": [],
   "source": [
    "emd_india.isnull().sum()"
   ]
  },
  {
   "cell_type": "markdown",
   "id": "9a2dcf16-b437-4639-a1ca-96ce9d2878bd",
   "metadata": {},
   "source": [
    "# **Filling the missing values**"
   ]
  },
  {
   "cell_type": "code",
   "execution_count": null,
   "id": "08386545-304a-4289-8c09-c7146307de7d",
   "metadata": {},
   "outputs": [],
   "source": [
    "emd_india['Total Deaths']=emd_india['Total Deaths'].fillna(emd_india['Total Deaths'].median())"
   ]
  },
  {
   "cell_type": "code",
   "execution_count": null,
   "id": "fb60d548-9887-4cc2-853c-9cbdfbb09e0c",
   "metadata": {},
   "outputs": [],
   "source": [
    "emd_india['Total Affected']=emd_india['Total Affected'].fillna(emd_india['Total Affected'].median())"
   ]
  },
  {
   "cell_type": "markdown",
   "id": "c2595824-fa99-488b-9006-d20b23872091",
   "metadata": {},
   "source": [
    "# **Checking for the null values**"
   ]
  },
  {
   "cell_type": "code",
   "execution_count": null,
   "id": "36fffcd3-62a8-4634-8369-3f29364b4615",
   "metadata": {},
   "outputs": [],
   "source": [
    "emd_india.isnull().sum()"
   ]
  },
  {
   "cell_type": "markdown",
   "id": "d073d224-4eeb-48f1-88c6-4b55c051a9dc",
   "metadata": {},
   "source": [
    "# **Checking for the duplicated values**"
   ]
  },
  {
   "cell_type": "code",
   "execution_count": null,
   "id": "8be35f8a-b053-4e22-b39c-e4dc29a4fa2c",
   "metadata": {},
   "outputs": [],
   "source": [
    "emd_india.duplicated().sum()"
   ]
  },
  {
   "cell_type": "code",
   "execution_count": null,
   "id": "48025b62-768c-4e8f-b89c-dad71b32a929",
   "metadata": {},
   "outputs": [],
   "source": [
    "emd_india"
   ]
  },
  {
   "cell_type": "markdown",
   "id": "ecf4b883-ef1c-424d-97bf-161ee941ae84",
   "metadata": {},
   "source": [
    "# **Merging the NASA and EMD-DAT datasets**\n",
    "### After merging the EM-DAT disaster dataset with the NASA climate dataset, the resulting data links disaster events with their corresponding daily climate conditions. Each disaster entry from EM-DAT (with details like type, location, total deaths, and people affected) is now matched with NASA’s environmental variables for the same date (temperature, rainfall, humidity, wind speed, etc.). This combined dataset enables deeper analysis of how specific climate factors might relate to the occurrence, severity, and impacts of disasters."
   ]
  },
  {
   "cell_type": "code",
   "execution_count": null,
   "id": "ed579c8b-7e3b-4e77-ae1d-528b50d91bb1",
   "metadata": {},
   "outputs": [],
   "source": [
    "merged = pd.merge(\n",
    "    df1_nasa,       # climate dataset\n",
    "    emd_india,        # disaster dataset\n",
    "    on=\"DATE\",     # common column\n",
    "    how=\"left\"    \n",
    ")\n"
   ]
  },
  {
   "cell_type": "code",
   "execution_count": null,
   "id": "b3ed7535-1555-428b-a1e4-d35a64f18e2c",
   "metadata": {
    "scrolled": true
   },
   "outputs": [],
   "source": [
    "merged"
   ]
  },
  {
   "cell_type": "markdown",
   "id": "1c6bfcb1-e253-4a10-bc38-a7237aa59e58",
   "metadata": {},
   "source": [
    "# **Filling the null values**"
   ]
  },
  {
   "cell_type": "code",
   "execution_count": null,
   "id": "690f735e-794e-436c-8d81-dc3f54187bcf",
   "metadata": {},
   "outputs": [],
   "source": [
    "## Categorical Data\n",
    "cat_cols = [\"DisNo.\",\"Location\",\"Disaster Group\",\"Disaster Type\", \"Disaster Subtype\"]\n",
    "merged[cat_cols] = merged[cat_cols].fillna(\"0\")\n"
   ]
  },
  {
   "cell_type": "code",
   "execution_count": null,
   "id": "5ff86b07-f438-46c1-a353-3c47e51c3603",
   "metadata": {},
   "outputs": [],
   "source": [
    "merged.drop(columns=[\"Total Deaths\",\"Total Affected\"],axis=1,inplace=True)\n"
   ]
  },
  {
   "cell_type": "markdown",
   "id": "db609b8d-ffd6-464e-a6ec-d9f50e3242fd",
   "metadata": {},
   "source": [
    "# **Final Merged Dataset**"
   ]
  },
  {
   "cell_type": "code",
   "execution_count": null,
   "id": "355ca391-4112-4e19-9fb3-286cf0b36fd7",
   "metadata": {},
   "outputs": [],
   "source": [
    "merged"
   ]
  },
  {
   "cell_type": "markdown",
   "id": "5c0dd3e7-0b37-4978-a65f-7b51b656627c",
   "metadata": {},
   "source": [
    "# **Checking for the null values of the merged dataset**"
   ]
  },
  {
   "cell_type": "code",
   "execution_count": null,
   "id": "04379945-bde0-4370-aea9-4f5a71e87a9b",
   "metadata": {},
   "outputs": [],
   "source": [
    "merged.isnull().sum()"
   ]
  },
  {
   "cell_type": "markdown",
   "id": "5248dc26-22e5-4f58-85e3-0fda3b22cf69",
   "metadata": {},
   "source": [
    "# **Checking for the duplicated values**"
   ]
  },
  {
   "cell_type": "code",
   "execution_count": null,
   "id": "03dc296c-5991-401c-91f2-a31f7c63e65e",
   "metadata": {},
   "outputs": [],
   "source": [
    "merged.duplicated().sum()"
   ]
  },
  {
   "cell_type": "markdown",
   "id": "0bb32e1b-8a16-4425-85b5-e43630a4084f",
   "metadata": {},
   "source": [
    "# **Summary of the merged dataset**"
   ]
  },
  {
   "cell_type": "code",
   "execution_count": null,
   "id": "0f141856-f7e0-4b79-8594-ad79a57360b2",
   "metadata": {},
   "outputs": [],
   "source": [
    "merged.info()"
   ]
  },
  {
   "cell_type": "markdown",
   "id": "b48c32e9-569e-4735-bf3d-936458799c51",
   "metadata": {},
   "source": [
    "# **descriptive statistics of the dataset**"
   ]
  },
  {
   "cell_type": "code",
   "execution_count": null,
   "id": "19630b33-9576-4a48-ac0d-bc319782023f",
   "metadata": {},
   "outputs": [],
   "source": [
    "merged.describe()"
   ]
  },
  {
   "cell_type": "markdown",
   "id": "b45df057-05b5-428e-952e-4021f230a835",
   "metadata": {},
   "source": [
    "# **Heatmap**"
   ]
  },
  {
   "cell_type": "code",
   "execution_count": null,
   "id": "5dfec98f-cc97-4636-bd48-63b041c3ac8c",
   "metadata": {},
   "outputs": [],
   "source": [
    "merged.drop(columns=['T2M_MAX','T2M_MIN'],inplace=True)\n",
    "corr_matrix=merged.select_dtypes(include=['number']).corr()\n",
    "sns.heatmap(corr_matrix,annot=True)"
   ]
  },
  {
   "cell_type": "markdown",
   "id": "d4a4421e-d6ef-40ae-947a-32dd6e2d007b",
   "metadata": {},
   "source": [
    "# **Boxplots for checking any outliers**"
   ]
  },
  {
   "cell_type": "code",
   "execution_count": null,
   "id": "1d649631-f4f0-4c02-911a-f2b32406b63b",
   "metadata": {},
   "outputs": [],
   "source": [
    "for i in merged.columns:\n",
    "    if merged[i].dtype!='object':\n",
    "        sns.boxplot(merged[i])\n",
    "        plt.title(i)\n",
    "        plt.show()"
   ]
  },
  {
   "cell_type": "markdown",
   "id": "2f344c9b-fd81-4e23-bfdb-74b3d16d4087",
   "metadata": {},
   "source": [
    "# **Bar plot for flood vs non flood**"
   ]
  },
  {
   "cell_type": "code",
   "execution_count": null,
   "id": "e8ba92f1-a339-4ead-a5f3-821008e0de18",
   "metadata": {},
   "outputs": [],
   "source": [
    "merged['Flood'].value_counts().plot(kind='bar')\n"
   ]
  },
  {
   "cell_type": "markdown",
   "id": "d16e7573-b021-4b42-9214-5d0c0d20eafa",
   "metadata": {},
   "source": [
    "# **Subplots**"
   ]
  },
  {
   "cell_type": "code",
   "execution_count": null,
   "id": "307c0eee-d13a-4f36-aa2e-b02951ea08a4",
   "metadata": {},
   "outputs": [],
   "source": [
    "fig,axs=plt.subplots(3,2,figsize=(12,12))\n",
    "sns.boxplot(data=merged,y='T2M',x='Flood',ax=axs[0,0])\n",
    "axs[0,0].set_title(\"Temperature vs Flood\")\n",
    "\n",
    "\n",
    "sns.boxplot(data=merged,y='PS',x='Flood',ax=axs[0,1])\n",
    "axs[0,1].set_title(\"Pressure vs Flood\")\n",
    "\n",
    "\n",
    "sns.boxplot(data=merged,y='PRECTOTCORR',x='Flood',ax=axs[1,0])\n",
    "axs[1,0].set_title(\"Precipitation  vs Flood\")\n",
    "\n",
    "\n",
    "sns.boxplot(data=merged,y='RH2M',x='Flood',ax=axs[1,1])\n",
    "axs[1,1].set_title(\"Humidity  vs Flood\")\n",
    "\n",
    "\n",
    "sns.boxplot(data=merged,y='WS2M',x='Flood',ax=axs[2,0])\n",
    "axs[2,0].set_title(\"Wind Speed vs Flood\")\n",
    "plt.show()"
   ]
  },
  {
   "cell_type": "code",
   "execution_count": null,
   "id": "2457a6c5-bead-449c-a1f2-b0d0978dcb4b",
   "metadata": {},
   "outputs": [],
   "source": [
    "merged['DATE'] = pd.to_datetime(merged['DATE'])\n"
   ]
  },
  {
   "cell_type": "code",
   "execution_count": null,
   "id": "7e994645-2033-43a4-a135-4b7d5ba19fa1",
   "metadata": {},
   "outputs": [],
   "source": [
    "merged['Year'] = merged['DATE'].dt.year\n",
    "merged['Month'] = merged['DATE'].dt.month\n",
    "merged['Season'] = merged['Month']%12 // 3 + 1  # 1=Winter, 2=Summer, 3=Monsoon, 4=Post-Monsoon\n"
   ]
  },
  {
   "cell_type": "markdown",
   "id": "cdf01ad8-6985-4517-850a-d61c12249185",
   "metadata": {},
   "source": [
    "# **Countplot for flood occurances by month and seasons**"
   ]
  },
  {
   "cell_type": "code",
   "execution_count": null,
   "id": "d0ab31dd-463a-48da-b9fd-de31e7e4348f",
   "metadata": {},
   "outputs": [],
   "source": [
    "import seaborn as sns\n",
    "import matplotlib.pyplot as plt\n",
    "\n",
    "# Flood count by month\n",
    "plt.figure(figsize=(10,5))\n",
    "sns.countplot(data=merged, x='Month', hue='Flood')\n",
    "plt.title(\"Flood occurrences by Month\")\n",
    "plt.show()\n",
    "\n",
    "# Flood count by season\n",
    "plt.figure(figsize=(8,5))\n",
    "sns.countplot(data=merged, x='Season', hue='Flood')\n",
    "plt.title(\"Flood occurrences by Season\")\n",
    "plt.show()\n"
   ]
  },
  {
   "cell_type": "markdown",
   "id": "994ea408-32a8-4aa8-9c20-36d069bc0333",
   "metadata": {},
   "source": [
    "# **Line plot for yearly flood occurances**"
   ]
  },
  {
   "cell_type": "code",
   "execution_count": null,
   "id": "dfb495c7-10ee-4ed6-b28a-6924d3ea0b15",
   "metadata": {},
   "outputs": [],
   "source": [
    "yearly = merged.groupby('Year')['Flood'].sum()\n",
    "\n",
    "plt.figure(figsize=(10,5))\n",
    "sns.lineplot(x=yearly.index, y=yearly.values, marker=\"o\")\n",
    "plt.title(\"Yearly Flood Occurrences\")\n",
    "plt.xlabel(\"Year\")\n",
    "plt.ylabel(\"Number of Floods\")\n",
    "plt.show()\n"
   ]
  },
  {
   "cell_type": "markdown",
   "id": "5bcda2f7-f4bc-44dc-b31a-1b53e6f43d5f",
   "metadata": {},
   "source": [
    "# **Standard Scaling**"
   ]
  },
  {
   "cell_type": "code",
   "execution_count": null,
   "id": "bb6369a8-b4a7-4e70-b5ff-288df281fc02",
   "metadata": {},
   "outputs": [],
   "source": [
    "X = merged.drop(['Flood','DATE'], axis=1)\n",
    "\n",
    "# Select numeric features again (should now be more than before)\n",
    "X = X.select_dtypes(include=['int64','float64'])\n",
    "\n",
    "scaler = StandardScaler()\n",
    "X_scaled = scaler.fit_transform(X)\n",
    "\n",
    "y = merged['Flood']\n"
   ]
  },
  {
   "cell_type": "code",
   "execution_count": null,
   "id": "bae20241-73b7-48b1-a999-7ac383810c42",
   "metadata": {},
   "outputs": [],
   "source": [
    "X"
   ]
  },
  {
   "cell_type": "code",
   "execution_count": null,
   "id": "42cc502a-ce8a-4874-9906-584ecf984057",
   "metadata": {},
   "outputs": [],
   "source": [
    "y"
   ]
  },
  {
   "cell_type": "markdown",
   "id": "2999ec48-0885-47bc-8709-4231ec58d781",
   "metadata": {},
   "source": [
    "# **Training and splitting the model**"
   ]
  },
  {
   "cell_type": "code",
   "execution_count": null,
   "id": "6fc37513-c7cc-451f-a4fa-5661c2b311ce",
   "metadata": {},
   "outputs": [],
   "source": [
    "from sklearn.model_selection import train_test_split\n",
    "\n",
    "X_train, X_test, y_train, y_test = train_test_split(\n",
    "    X_scaled, y, test_size=0.2, random_state=42, stratify=y\n",
    ")\n"
   ]
  },
  {
   "cell_type": "markdown",
   "id": "92102bbe-f332-4dc1-b8e2-cc17f86be363",
   "metadata": {},
   "source": [
    "# **Using the SMOTE**"
   ]
  },
  {
   "cell_type": "code",
   "execution_count": null,
   "id": "fafa59cb-fb37-4e84-a054-563b0541d918",
   "metadata": {},
   "outputs": [],
   "source": [
    "from imblearn.over_sampling import SMOTE\n",
    "\n",
    "sm = SMOTE(random_state=42)\n",
    "X_train_res, y_train_res = sm.fit_resample(X_train, y_train)\n"
   ]
  },
  {
   "cell_type": "code",
   "execution_count": null,
   "id": "8ea7420a-0cc2-42c7-aca7-32bb6bc443a2",
   "metadata": {},
   "outputs": [],
   "source": [
    "X_train_res"
   ]
  },
  {
   "cell_type": "code",
   "execution_count": null,
   "id": "4de84b0b-a669-44de-9495-ceecf4c5b780",
   "metadata": {},
   "outputs": [],
   "source": [
    "y_train_res"
   ]
  },
  {
   "cell_type": "markdown",
   "id": "f791f13e-c628-4184-8294-59163ca18500",
   "metadata": {},
   "source": [
    "# **Training the model**"
   ]
  },
  {
   "cell_type": "markdown",
   "id": "869af399-afa2-4107-8350-f7902fe97ac7",
   "metadata": {},
   "source": [
    "### **Using Logistic Regression**"
   ]
  },
  {
   "cell_type": "code",
   "execution_count": null,
   "id": "f67c14b9-a780-4002-bbd5-f30b8849476d",
   "metadata": {},
   "outputs": [],
   "source": [
    "from sklearn.linear_model import LogisticRegression\n",
    "from sklearn.ensemble import RandomForestClassifier\n",
    "from sklearn.metrics import classification_report, confusion_matrix\n",
    "\n",
    "# Logistic Regression\n",
    "logreg = LogisticRegression(class_weight='balanced', max_iter=1000)\n",
    "logreg.fit(X_train_res, y_train_res)\n",
    "\n",
    "y_pred = logreg.predict(X_test)\n",
    "print(classification_report(y_test, y_pred))\n",
    "print(confusion_matrix(y_test, y_pred))\n"
   ]
  },
  {
   "cell_type": "markdown",
   "id": "07afe4fc-a6aa-4430-9802-9e62ad2bb044",
   "metadata": {},
   "source": [
    "### **Using Random forest classifier**"
   ]
  },
  {
   "cell_type": "code",
   "execution_count": null,
   "id": "4edd510a-b796-4d97-b321-870734e0872a",
   "metadata": {},
   "outputs": [],
   "source": [
    "rf = RandomForestClassifier(class_weight='balanced', random_state=42)\n",
    "rf.fit(X_train_res, y_train_res)\n",
    "y_pred_rf = rf.predict(X_test)\n",
    "print(classification_report(y_test, y_pred_rf))\n",
    "print(confusion_matrix(y_test, y_pred_rf))\n"
   ]
  },
  {
   "cell_type": "markdown",
   "id": "df86c92a-b851-49d6-9a6d-69b4014c75de",
   "metadata": {},
   "source": [
    "## **Precision-Recall Curve**"
   ]
  },
  {
   "cell_type": "code",
   "execution_count": null,
   "id": "60b4e45c-b2db-4b5d-88f0-78691b54d5d9",
   "metadata": {},
   "outputs": [],
   "source": [
    "y_proba_rf = rf.predict_proba(X_test)[:,1]\n",
    "\n",
    "from sklearn.metrics import precision_recall_curve\n",
    "import matplotlib.pyplot as plt\n",
    "\n",
    "precision, recall, thresholds = precision_recall_curve(y_test, y_proba_rf)\n",
    "plt.plot(recall, precision)\n",
    "plt.xlabel(\"Recall\")\n",
    "plt.ylabel(\"Precision\")\n",
    "plt.title(\"Precision-Recall Curve for Random Forest\")\n",
    "plt.show()\n"
   ]
  },
  {
   "cell_type": "markdown",
   "id": "4a42c43e-1eaa-4db3-8909-b05ad266ecad",
   "metadata": {},
   "source": [
    "### **Using  XGBClassifier**"
   ]
  },
  {
   "cell_type": "code",
   "execution_count": null,
   "id": "2e5cffe0-315a-467d-9cf7-c025f69e18fd",
   "metadata": {},
   "outputs": [],
   "source": [
    "best_xgb = XGBClassifier(\n",
    "    objective='binary:logistic',\n",
    "    eval_metric='aucpr',  # instead of logloss\n",
    "    scale_pos_weight=scale_pos_weight,\n",
    "    colsample_bytree=1.0,\n",
    "    learning_rate=0.05,\n",
    "    max_depth=5,\n",
    "    n_estimators=500,\n",
    "    subsample=0.8,\n",
    "    random_state=42\n",
    ")\n",
    "best_xgb.fit(X_train, y_train)\n"
   ]
  },
  {
   "cell_type": "code",
   "execution_count": null,
   "id": "f042e0bc-7587-44d0-9b41-a4c0af37a62c",
   "metadata": {},
   "outputs": [],
   "source": [
    "y_proba_aucpr = best_xgb.predict_proba(X_test)[:, 1]\n"
   ]
  },
  {
   "cell_type": "code",
   "execution_count": null,
   "id": "c5ca8658-0878-4466-94b4-95d4f53dc1b1",
   "metadata": {},
   "outputs": [],
   "source": [
    "y_proba_aucpr \n"
   ]
  },
  {
   "cell_type": "markdown",
   "id": "415449fa-3787-4a37-8689-fcceb05c2c31",
   "metadata": {},
   "source": [
    "## **Precision-Recall Curve**"
   ]
  },
  {
   "cell_type": "code",
   "execution_count": null,
   "id": "ebc7493a-5a26-4897-b967-07896b3ae215",
   "metadata": {},
   "outputs": [],
   "source": [
    "from sklearn.metrics import precision_recall_curve\n",
    "import matplotlib.pyplot as plt\n",
    "\n",
    "precision, recall, thresholds = precision_recall_curve(y_test, y_proba_aucpr)\n",
    "\n",
    "plt.plot(recall, precision)\n",
    "plt.xlabel(\"Recall\")\n",
    "plt.ylabel(\"Precision\")\n",
    "plt.title(\"Precision-Recall Curve (XGB with aucpr)\")\n",
    "plt.show()\n"
   ]
  },
  {
   "cell_type": "code",
   "execution_count": null,
   "id": "61d7a368-e427-4fa6-91c8-fc6acf3d25b3",
   "metadata": {},
   "outputs": [],
   "source": [
    "from sklearn.metrics import precision_recall_curve, classification_report, confusion_matrix\n",
    "\n",
    "# Get precision, recall, thresholds\n",
    "precision, recall, thresholds = precision_recall_curve(y_test, y_proba_aucpr)\n",
    "\n",
    "# Compute F1 for each threshold\n",
    "f1_scores = 2 * (precision * recall) / (precision + recall + 1e-6)\n",
    "\n",
    "# Best threshold = threshold that maximizes F1\n",
    "best_idx = np.argmax(f1_scores)\n",
    "best_threshold = thresholds[best_idx]\n",
    "\n",
    "print(\"🔹 Best threshold by F1:\", best_threshold)\n",
    "print(\"Precision:\", precision[best_idx])\n",
    "print(\"Recall:\", recall[best_idx])\n",
    "print(\"F1 Score:\", f1_scores[best_idx])\n",
    "\n",
    "# Apply the chosen threshold\n",
    "y_pred_best = (y_proba_aucpr >= best_threshold).astype(int)\n",
    "\n",
    "# Final evaluation\n",
    "print(\"\\nClassification Report:\\n\", classification_report(y_test, y_pred_best))\n",
    "print(\"Confusion Matrix:\\n\", confusion_matrix(y_test, y_pred_best))\n",
    "\n",
    "# Optional: plot to visualize\n",
    "plt.figure(figsize=(8,5))\n",
    "plt.plot(thresholds, precision[:-1], label=\"Precision\")\n",
    "plt.plot(thresholds, recall[:-1], label=\"Recall\")\n",
    "plt.plot(thresholds, f1_scores[:-1], label=\"F1\")\n",
    "plt.axvline(x=best_threshold, color='r', linestyle='--', label=f\"Best Thresh = {best_threshold:.4f}\")\n",
    "plt.xlabel(\"Threshold\")\n",
    "plt.ylabel(\"Score\")\n",
    "plt.legend()\n",
    "plt.title(\"Precision, Recall, and F1 vs Threshold\")\n",
    "plt.show()\n"
   ]
  },
  {
   "cell_type": "code",
   "execution_count": null,
   "id": "260f9b1d-d5bf-48d7-83de-535d459b9a9c",
   "metadata": {},
   "outputs": [],
   "source": []
  }
 ],
 "metadata": {
  "kernelspec": {
   "display_name": "Python 3 (ipykernel)",
   "language": "python",
   "name": "python3"
  },
  "language_info": {
   "codemirror_mode": {
    "name": "ipython",
    "version": 3
   },
   "file_extension": ".py",
   "mimetype": "text/x-python",
   "name": "python",
   "nbconvert_exporter": "python",
   "pygments_lexer": "ipython3",
   "version": "3.12.7"
  }
 },
 "nbformat": 4,
 "nbformat_minor": 5
}
